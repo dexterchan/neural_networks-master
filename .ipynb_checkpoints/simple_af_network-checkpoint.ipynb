{
 "cells": [
  {
   "cell_type": "code",
   "execution_count": 1,
   "metadata": {
    "collapsed": false
   },
   "outputs": [],
   "source": [
    "#dependencies (matrix math) \n",
    "import numpy as np"
   ]
  },
  {
   "cell_type": "code",
   "execution_count": 2,
   "metadata": {
    "collapsed": false
   },
   "outputs": [
    {
     "name": "stdout",
     "output_type": "stream",
     "text": [
      "[[0 0 1]\n",
      " [0 1 1]\n",
      " [1 0 1]\n",
      " [1 1 1]]\n",
      "[[0]\n",
      " [1]\n",
      " [1]\n",
      " [0]]\n"
     ]
    }
   ],
   "source": [
    "#input data\n",
    "input_data = np.array([[0,0,1],\n",
    "            [0,1,1],\n",
    "            [1,0,1],\n",
    "            [1,1,1]])\n",
    "                \n",
    "output_labels = np.array([[0],\n",
    "            [1],\n",
    "            [1],\n",
    "            [0]])\n",
    "\n",
    "print(input_data)\n",
    "print(output_labels)"
   ]
  },
  {
   "cell_type": "code",
   "execution_count": 3,
   "metadata": {
    "collapsed": true
   },
   "outputs": [],
   "source": [
    "# sigmoid function\n",
    "def activate(x,deriv=False):\n",
    "    if(deriv==True):\n",
    "        return x*(1-x)\n",
    "    return 1/(1+np.exp(-x))"
   ]
  },
  {
   "cell_type": "code",
   "execution_count": 4,
   "metadata": {
    "collapsed": false
   },
   "outputs": [
    {
     "name": "stdout",
     "output_type": "stream",
     "text": [
      "[[-0.87700761 -0.11786082  0.91961466 -0.40728306]\n",
      " [ 0.26155754 -0.69683364 -0.49641512 -0.62301324]\n",
      " [-0.69055187 -0.67081823 -0.65806748  0.95430514]]\n",
      "[[ 0.70352618]\n",
      " [-0.96365244]\n",
      " [ 0.45176948]\n",
      " [ 0.21644657]]\n"
     ]
    }
   ],
   "source": [
    "# 2 weight values\n",
    "synaptic_weight_0 = 2*np.random.random((3,4)) - 1\n",
    "synaptic_weight_1 = 2*np.random.random((4,1)) - 1\n",
    "\n",
    "print(synaptic_weight_0)\n",
    "print(synaptic_weight_1)"
   ]
  },
  {
   "cell_type": "code",
   "execution_count": 5,
   "metadata": {
    "collapsed": false
   },
   "outputs": [
    {
     "name": "stdout",
     "output_type": "stream",
     "text": [
      "Error:0.497937581419\n"
     ]
    }
   ],
   "source": [
    "for j in range(60):\n",
    "\n",
    "\t# Forward propagate through layers 0, 1, and 2\n",
    "    layer0 = input_data\n",
    "    layer1 = activate(np.dot(layer0,synaptic_weight_0))\n",
    "    layer2 = activate(np.dot(layer1,synaptic_weight_1))\n",
    "\n",
    "    #calculate error for layer 2\n",
    "    layer2_error = output_labels - layer2\n",
    "    \n",
    "    if (j% 10000) == 0:\n",
    "        print (\"Error:\" + str(np.mean(np.abs(layer2_error))) )\n",
    "        \n",
    "    #Use it to compute the gradient\n",
    "    layer2_gradient = layer2_error*activate(layer2,deriv=True)\n",
    "\n",
    "    #calculate error for layer 1\n",
    "    layer1_error = layer2_gradient.dot(synaptic_weight_1.T)\n",
    "    \n",
    "    #Use it to compute its gradient\n",
    "    layer1_gradient = layer1_error * activate(layer1,deriv=True)\n",
    "    \n",
    "    #update the weights using the gradients\n",
    "    synaptic_weight_1 += layer1.T.dot(layer2_gradient)\n",
    "    synaptic_weight_0 += layer0.T.dot(layer1_gradient)\n"
   ]
  },
  {
   "cell_type": "code",
   "execution_count": 6,
   "metadata": {
    "collapsed": false
   },
   "outputs": [
    {
     "name": "stdout",
     "output_type": "stream",
     "text": [
      "[ 0.93635464]\n"
     ]
    }
   ],
   "source": [
    "#testing\n",
    "syn0=synaptic_weight_0\n",
    "layer1 = activate(np.dot(np.array([0, 1, 1]), syn0))\n",
    "#print(layer1)\n",
    "syn0=synaptic_weight_1\n",
    "layer2 = activate(np.dot(layer1, syn0))\n",
    "print (layer2)"
   ]
  },
  {
   "cell_type": "code",
   "execution_count": 7,
   "metadata": {
    "collapsed": false
   },
   "outputs": [
    {
     "name": "stdout",
     "output_type": "stream",
     "text": [
      "[ 0.09081176]\n"
     ]
    }
   ],
   "source": [
    "syn0=synaptic_weight_0\n",
    "layer1 = activate(np.dot(np.array([1, 1, 1]), syn0))\n",
    "#print(layer1)\n",
    "syn0=synaptic_weight_1\n",
    "layer2 = activate(np.dot(layer1, syn0))\n",
    "print (layer2)"
   ]
  },
  {
   "cell_type": "code",
   "execution_count": null,
   "metadata": {
    "collapsed": false
   },
   "outputs": [],
   "source": []
  },
  {
   "cell_type": "code",
   "execution_count": null,
   "metadata": {
    "collapsed": true
   },
   "outputs": [],
   "source": []
  }
 ],
 "metadata": {
  "kernelspec": {
   "display_name": "Python 3",
   "language": "python",
   "name": "python3"
  },
  "language_info": {
   "codemirror_mode": {
    "name": "ipython",
    "version": 3
   },
   "file_extension": ".py",
   "mimetype": "text/x-python",
   "name": "python",
   "nbconvert_exporter": "python",
   "pygments_lexer": "ipython3",
   "version": "3.6.0"
  }
 },
 "nbformat": 4,
 "nbformat_minor": 2
}
